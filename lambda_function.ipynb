{
 "cells": [
  {
   "cell_type": "code",
   "execution_count": 1,
   "id": "b768839d-cfc5-4bdd-a9d0-eba03076a6eb",
   "metadata": {},
   "outputs": [],
   "source": [
    "n =3\n",
    "p =2"
   ]
  },
  {
   "cell_type": "code",
   "execution_count": 4,
   "id": "db402273-d8fb-46d4-80d3-b40647f59bb4",
   "metadata": {},
   "outputs": [],
   "source": [
    "def test(n,p):\n",
    "    return n**p \n",
    "        "
   ]
  },
  {
   "cell_type": "code",
   "execution_count": 5,
   "id": "9beac92a-60df-4060-ab77-6b97334a0e86",
   "metadata": {},
   "outputs": [
    {
     "data": {
      "text/plain": [
       "9"
      ]
     },
     "execution_count": 5,
     "metadata": {},
     "output_type": "execute_result"
    }
   ],
   "source": [
    "test (3,2)"
   ]
  },
  {
   "cell_type": "code",
   "execution_count": 15,
   "id": "a16b0e6c-1144-4a04-9650-52ab911637ec",
   "metadata": {},
   "outputs": [],
   "source": [
    "a= lambda n ,p: n**p"
   ]
  },
  {
   "cell_type": "code",
   "execution_count": 16,
   "id": "36115336-0094-46b6-85d2-3660481bd6c4",
   "metadata": {},
   "outputs": [
    {
     "data": {
      "text/plain": [
       "9"
      ]
     },
     "execution_count": 16,
     "metadata": {},
     "output_type": "execute_result"
    }
   ],
   "source": [
    "a(3,2)\n"
   ]
  },
  {
   "cell_type": "code",
   "execution_count": 19,
   "id": "2f50bd61-8549-4815-b929-a56bfe3ec7ae",
   "metadata": {},
   "outputs": [],
   "source": [
    "add = lambda x,y : x+y"
   ]
  },
  {
   "cell_type": "code",
   "execution_count": 21,
   "id": "1a6ed67b-5a0d-4b45-af23-bd61b8ca8229",
   "metadata": {},
   "outputs": [
    {
     "data": {
      "text/plain": [
       "5"
      ]
     },
     "execution_count": 21,
     "metadata": {},
     "output_type": "execute_result"
    }
   ],
   "source": [
    "add(3,2)"
   ]
  },
  {
   "cell_type": "code",
   "execution_count": 24,
   "id": "7a1271b5-0208-4b51-b7c9-89441584c215",
   "metadata": {},
   "outputs": [],
   "source": [
    "c_to_f = lambda c : (9/5)*c + 32"
   ]
  },
  {
   "cell_type": "code",
   "execution_count": 25,
   "id": "f3f0a416-e0e5-4acf-8685-b0ac4ab9c765",
   "metadata": {},
   "outputs": [
    {
     "data": {
      "text/plain": [
       "113.0"
      ]
     },
     "execution_count": 25,
     "metadata": {},
     "output_type": "execute_result"
    }
   ],
   "source": [
    "c_to_f (45)"
   ]
  },
  {
   "cell_type": "code",
   "execution_count": 26,
   "id": "01ed54cb-10a6-441d-8ad7-2b5d71fe2ec3",
   "metadata": {},
   "outputs": [
    {
     "data": {
      "text/plain": [
       "89.6"
      ]
     },
     "execution_count": 26,
     "metadata": {},
     "output_type": "execute_result"
    }
   ],
   "source": [
    "c_to_f (32)"
   ]
  },
  {
   "cell_type": "code",
   "execution_count": 28,
   "id": "8a8f28d5-9457-4297-8c21-e4fc1a4aea8b",
   "metadata": {},
   "outputs": [],
   "source": [
    "finding_max = lambda x,y : x if x >y else y"
   ]
  },
  {
   "cell_type": "code",
   "execution_count": 29,
   "id": "bb81041f-5518-4b9d-aa36-a6eea0b519df",
   "metadata": {},
   "outputs": [
    {
     "data": {
      "text/plain": [
       "56"
      ]
     },
     "execution_count": 29,
     "metadata": {},
     "output_type": "execute_result"
    }
   ],
   "source": [
    "finding_max(45,56)"
   ]
  },
  {
   "cell_type": "code",
   "execution_count": 32,
   "id": "9a3e244c-aca2-4251-8a65-4b1ff69e0c39",
   "metadata": {},
   "outputs": [],
   "source": [
    "s = \"pwskills\""
   ]
  },
  {
   "cell_type": "code",
   "execution_count": 33,
   "id": "dd66ae72-81af-463b-a7e2-18db3c5b8d48",
   "metadata": {},
   "outputs": [],
   "source": [
    "find_len = lambda s : len(s)"
   ]
  },
  {
   "cell_type": "code",
   "execution_count": 34,
   "id": "395a2803-514d-420d-aa2a-67fb80e3bc7c",
   "metadata": {},
   "outputs": [
    {
     "data": {
      "text/plain": [
       "8"
      ]
     },
     "execution_count": 34,
     "metadata": {},
     "output_type": "execute_result"
    }
   ],
   "source": [
    "find_len (s)"
   ]
  },
  {
   "cell_type": "code",
   "execution_count": null,
   "id": "4a60402c-5636-49a7-83f0-e41f92f4e0e1",
   "metadata": {},
   "outputs": [],
   "source": []
  }
 ],
 "metadata": {
  "kernelspec": {
   "display_name": "Python 3 (ipykernel)",
   "language": "python",
   "name": "python3"
  },
  "language_info": {
   "codemirror_mode": {
    "name": "ipython",
    "version": 3
   },
   "file_extension": ".py",
   "mimetype": "text/x-python",
   "name": "python",
   "nbconvert_exporter": "python",
   "pygments_lexer": "ipython3",
   "version": "3.10.8"
  }
 },
 "nbformat": 4,
 "nbformat_minor": 5
}
